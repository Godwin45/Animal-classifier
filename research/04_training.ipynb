{
 "cells": [
  {
   "cell_type": "code",
   "execution_count": 16,
   "metadata": {},
   "outputs": [],
   "source": [
    "import os"
   ]
  },
  {
   "cell_type": "code",
   "execution_count": 17,
   "metadata": {},
   "outputs": [
    {
     "data": {
      "text/plain": [
       "'c:\\\\Users\\\\User\\\\Desktop\\\\PROJECTS\\\\animal classifier\\\\Animal-classifier'"
      ]
     },
     "execution_count": 17,
     "metadata": {},
     "output_type": "execute_result"
    }
   ],
   "source": [
    "%pwd"
   ]
  },
  {
   "cell_type": "code",
   "execution_count": 18,
   "metadata": {},
   "outputs": [],
   "source": [
    "os.chdir(\"../\")"
   ]
  },
  {
   "cell_type": "code",
   "execution_count": 19,
   "metadata": {},
   "outputs": [
    {
     "data": {
      "text/plain": [
       "'c:\\\\Users\\\\User\\\\Desktop\\\\PROJECTS\\\\animal classifier'"
      ]
     },
     "execution_count": 19,
     "metadata": {},
     "output_type": "execute_result"
    }
   ],
   "source": [
    "%pwd"
   ]
  },
  {
   "cell_type": "code",
   "execution_count": 20,
   "metadata": {},
   "outputs": [],
   "source": [
    "from dataclasses import dataclass\n",
    "from pathlib import Path\n",
    "\n",
    "\n",
    "@dataclass(frozen=True)\n",
    "class TrainingConfig:\n",
    "    root_dir: Path\n",
    "    trained_model_path: Path\n",
    "    training_data: Path\n",
    "    params_epochs: int\n",
    "    params_batch_size: int\n",
    "    params_is_augmentation: bool\n",
    "    params_image_size: list\n"
   ]
  },
  {
   "cell_type": "code",
   "execution_count": 21,
   "metadata": {},
   "outputs": [],
   "source": [
    "from cnnClassifier.constants import *\n",
    "from cnnClassifier.utils.common import read_yaml, create_directories\n",
    "import tensorflow as tf"
   ]
  },
  {
   "cell_type": "code",
   "execution_count": 22,
   "metadata": {},
   "outputs": [],
   "source": [
    "class ConfigurationManager:\n",
    "\n",
    "    def get_training_config(self) -> TrainingConfig:\n",
    "        training = self.config.training\n",
    "        #prepare_base_model = self.config.prepare_base_model\n",
    "        params = self.params\n",
    "        training_data = os.path.join(self.config.data_ingestion.unzip_dir, \"catsndogs\")\n",
    "        create_directories([\n",
    "            Path(training.root_dir)\n",
    "        ])\n",
    "\n",
    "        training_config = TrainingConfig(\n",
    "            root_dir=Path(training.root_dir),\n",
    "            trained_model_path=Path(training.trained_model_path),\n",
    "            training_data=Path(training_data),\n",
    "            params_epochs=params.EPOCHS,\n",
    "            params_batch_size=params.BATCH_SIZE,\n",
    "            params_is_augmentation=params.AUGMENTATION,\n",
    "            params_image_size=params.IMAGE_SIZE\n",
    "        )\n",
    "\n",
    "        return training_config"
   ]
  },
  {
   "cell_type": "code",
   "execution_count": 23,
   "metadata": {},
   "outputs": [],
   "source": [
    "import os\n",
    "import urllib.request as request\n",
    "from zipfile import ZipFile\n",
    "import tensorflow as tf\n",
    "from keras.preprocessing.image import ImageDataGenerator\n",
    "import time"
   ]
  },
  {
   "cell_type": "code",
   "execution_count": 24,
   "metadata": {},
   "outputs": [],
   "source": [
    "class Training:\n",
    "    def __init__(self, config: TrainingConfig):\n",
    "        self.config = config\n",
    "    \n",
    " \n",
    "    def train_valid_generator(self):\n",
    "\n",
    "        train_datagen_kwargs = dict(rescale = 1./255,\n",
    "                                   shear_range = 0.2,\n",
    "                                   zoom_range = 0.2,\n",
    "                                   horizontal_flip = True\n",
    "        )\n",
    "\n",
    "        training_set_kwargs = dict(\n",
    "                                #'dataset/training_set',\n",
    "                                target_size = (64, 64),\n",
    "                                batch_size=self.config.params_batch_size,\n",
    "                                class_mode = 'binary'\n",
    "        )\n",
    "        test_datagen_kwargs = dict(rescale = 1./255)\n",
    "\n",
    "        test_set_kwargs = dict(#'dataset/test_set',\n",
    "                            target_size = (64, 64),\n",
    "                            batch_size=self.config.params_batch_size,\n",
    "                            class_mode = 'binary')\n",
    "\n",
    "\n",
    "        # dataflow_kwargs = dict(\n",
    "        #     target_size=self.config.params_image_size[:-1],\n",
    "        #     batch_size=self.config.params_batch_size,\n",
    "        #     interpolation=\"bilinear\"\n",
    "        #)\n",
    "\n",
    "        # valid_datagenerator = tf.keras.preprocessing.image.ImageDataGenerator(\n",
    "        #     **datagenerator_kwargs\n",
    "        # )\n",
    "\n",
    "        test_datagen = tf.keras.preprocessing.image.ImageDataGenerator(\n",
    "            **test_datagen_kwargs\n",
    "        )\n",
    "\n",
    "        self.test_set = test_datagen.flow_from_directory(\n",
    "            directory=self.config.training_data,\n",
    "            subset=\"validation\",\n",
    "            shuffle=False,\n",
    "            **test_set_kwargs\n",
    "        )\n",
    "\n",
    "        if self.config.params_is_augmentation:\n",
    "            train_datagen = tf.keras.preprocessing.image.ImageDataGenerator(\n",
    "                **train_datagen_kwargs\n",
    "            )\n",
    "        else:\n",
    "            train_datagen = test_datagen\n",
    "\n",
    "        self.training_set = train_datagen.flow_from_directory(\n",
    "            directory=self.config.training_data,\n",
    "            subset=\"training\",\n",
    "            shuffle=True,\n",
    "            **training_set_kwargs\n",
    "        )\n",
    "\n",
    "    @staticmethod\n",
    "    def save_model(path: Path, model: tf.keras.Model):\n",
    "        model.save(path)\n",
    "\n",
    "\n",
    "    # def train(self, callback_list: list):\n",
    "    #     self.steps_per_epoch = self.train_generator.samples // self.train_generator.batch_size\n",
    "    #     self.validation_steps = self.valid_generator.samples // self.valid_generator.batch_size\n",
    "\n",
    "    #     self.model.fit(\n",
    "    #         self.train_generator,\n",
    "    #         epochs=self.config.params_epochs,\n",
    "    #         steps_per_epoch=self.steps_per_epoch,\n",
    "    #         validation_steps=self.validation_steps,\n",
    "    #         validation_data=self.valid_generator,\n",
    "    #         callbacks=callback_list\n",
    "        #)\n",
    "\n",
    "        # self.save_model(\n",
    "        #     path=self.config.trained_model_path,\n",
    "        #     model=self.model\n",
    "        #)\n",
    "    def build_cnn_model(self):\n",
    "        self.cnn = cnn\n",
    "        cnn = tf.keras.models.Sequential()\n",
    "        cnn.add(tf.keras.layers.Conv2D(filters=32, kernel_size=3, activation='relu', input_shape=self.config.params_image_size))\n",
    "        cnn.add(tf.keras.layers.MaxPool2D(pool_size=2, strides=2))\n",
    "        cnn.add(tf.keras.layers.Conv2D(filters=32, kernel_size=3, activation='relu'))\n",
    "        cnn.add(tf.keras.layers.MaxPool2D(pool_size=2, strides=2))\n",
    "        cnn.add(tf.keras.layers.Flatten())\n",
    "        cnn.add(tf.keras.layers.Dense(units=128, activation='relu'))\n",
    "        cnn.add(tf.keras.layers.Dense(units=1, activation='sigmoid'))\n",
    "        cnn.compile(optimizer='adam', loss='binary_crossentropy', metrics=['accuracy'])\n",
    "\n",
    "        return self.cnn\n",
    "    \n",
    "        \n",
    "\n",
    "    def train_cnn_model(self):\n",
    "         self.model.fit(x=self.training_set, validation_data=self.test_set, epochs=self.config.params_epochs)\n",
    "\n",
    "         self.save_model(\n",
    "                    path=self.config.trained_model_path,\n",
    "                    model=self.model)\n",
    "\n",
    "        # # Usage\n",
    "        # cnn_model = build_cnn_model()\n",
    "        # train_cnn_model(cnn_model, training_set, test_set, epochs=2)\n",
    "\n"
   ]
  },
  {
   "cell_type": "code",
   "execution_count": 25,
   "metadata": {},
   "outputs": [
    {
     "ename": "AttributeError",
     "evalue": "'ConfigurationManager' object has no attribute 'config'",
     "output_type": "error",
     "traceback": [
      "\u001b[1;31m---------------------------------------------------------------------------\u001b[0m",
      "\u001b[1;31mAttributeError\u001b[0m                            Traceback (most recent call last)",
      "Cell \u001b[1;32mIn[25], line 10\u001b[0m\n\u001b[0;32m      6\u001b[0m     training\u001b[39m.\u001b[39mtrain_valid_generator()\n\u001b[0;32m      9\u001b[0m \u001b[39mexcept\u001b[39;00m \u001b[39mException\u001b[39;00m \u001b[39mas\u001b[39;00m e:\n\u001b[1;32m---> 10\u001b[0m     \u001b[39mraise\u001b[39;00m e\n",
      "Cell \u001b[1;32mIn[25], line 3\u001b[0m\n\u001b[0;32m      1\u001b[0m \u001b[39mtry\u001b[39;00m:\n\u001b[0;32m      2\u001b[0m     config \u001b[39m=\u001b[39m ConfigurationManager()\n\u001b[1;32m----> 3\u001b[0m     training_config \u001b[39m=\u001b[39m config\u001b[39m.\u001b[39;49mget_training_config()\n\u001b[0;32m      4\u001b[0m     training \u001b[39m=\u001b[39m Training(config\u001b[39m=\u001b[39mtraining_config)\n\u001b[0;32m      5\u001b[0m     training\u001b[39m.\u001b[39mget_base_model()\n",
      "Cell \u001b[1;32mIn[22], line 4\u001b[0m, in \u001b[0;36mConfigurationManager.get_training_config\u001b[1;34m(self)\u001b[0m\n\u001b[0;32m      3\u001b[0m \u001b[39mdef\u001b[39;00m \u001b[39mget_training_config\u001b[39m(\u001b[39mself\u001b[39m) \u001b[39m-\u001b[39m\u001b[39m>\u001b[39m TrainingConfig:\n\u001b[1;32m----> 4\u001b[0m     training \u001b[39m=\u001b[39m \u001b[39mself\u001b[39;49m\u001b[39m.\u001b[39;49mconfig\u001b[39m.\u001b[39mtraining\n\u001b[0;32m      5\u001b[0m     \u001b[39m#prepare_base_model = self.config.prepare_base_model\u001b[39;00m\n\u001b[0;32m      6\u001b[0m     params \u001b[39m=\u001b[39m \u001b[39mself\u001b[39m\u001b[39m.\u001b[39mparams\n",
      "\u001b[1;31mAttributeError\u001b[0m: 'ConfigurationManager' object has no attribute 'config'"
     ]
    }
   ],
   "source": [
    "try:\n",
    "    config = ConfigurationManager()\n",
    "    training_config = config.get_training_config()\n",
    "    training = Training(config=training_config)\n",
    "    training.get_base_model()\n",
    "    training.train_valid_generator()\n",
    "    \n",
    "\n",
    "except Exception as e:\n",
    "    raise e"
   ]
  },
  {
   "cell_type": "code",
   "execution_count": null,
   "metadata": {},
   "outputs": [],
   "source": []
  }
 ],
 "metadata": {
  "kernelspec": {
   "display_name": "chicken",
   "language": "python",
   "name": "python3"
  },
  "language_info": {
   "codemirror_mode": {
    "name": "ipython",
    "version": 3
   },
   "file_extension": ".py",
   "mimetype": "text/x-python",
   "name": "python",
   "nbconvert_exporter": "python",
   "pygments_lexer": "ipython3",
   "version": "3.8.16"
  },
  "orig_nbformat": 4
 },
 "nbformat": 4,
 "nbformat_minor": 2
}
